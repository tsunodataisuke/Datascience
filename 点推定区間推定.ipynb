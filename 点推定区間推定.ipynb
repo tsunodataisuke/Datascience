{
 "cells": [
  {
   "cell_type": "code",
   "execution_count": 1,
   "id": "884af149",
   "metadata": {},
   "outputs": [],
   "source": [
    "import numpy as np\n",
    "from scipy import stats\n",
    "\n",
    "import matplotlib.pyplot as plt\n",
    "import seaborn as sns\n",
    "\n",
    "%matplotlib inline\n",
    "sns.set()"
   ]
  },
  {
   "cell_type": "code",
   "execution_count": 2,
   "id": "de42bce7",
   "metadata": {},
   "outputs": [],
   "source": [
    "np.random.seed(1)"
   ]
  },
  {
   "cell_type": "code",
   "execution_count": 3,
   "id": "a51065d3",
   "metadata": {},
   "outputs": [],
   "source": [
    "norm_dist = stats.norm(loc = 15, scale = 1)\n",
    "data1 = norm_dist.rvs(size = 10000)"
   ]
  },
  {
   "cell_type": "code",
   "execution_count": 4,
   "id": "fd8d9629",
   "metadata": {},
   "outputs": [
    {
     "data": {
      "text/plain": [
       "array([16.62434536, 14.38824359, 14.47182825, ..., 13.98585618,\n",
       "       14.93730377, 13.56213011])"
      ]
     },
     "execution_count": 4,
     "metadata": {},
     "output_type": "execute_result"
    }
   ],
   "source": [
    "data1"
   ]
  },
  {
   "cell_type": "code",
   "execution_count": 5,
   "id": "83f7d627",
   "metadata": {},
   "outputs": [
    {
     "data": {
      "text/plain": [
       "(array([  14.,  151.,  699., 1932., 2909., 2594., 1248.,  388.,   55.,\n",
       "          10.]),\n",
       " array([11.3435599 , 12.11188882, 12.88021773, 13.64854664, 14.41687556,\n",
       "        15.18520447, 15.95353339, 16.7218623 , 17.49019122, 18.25852013,\n",
       "        19.02684904]),\n",
       " <a list of 10 Patch objects>)"
      ]
     },
     "execution_count": 5,
     "metadata": {},
     "output_type": "execute_result"
    },
    {
     "data": {
      "image/png": "[encoded data removed]",
      "text/plain": [
       "<Figure size 432x288 with 1 Axes>"
      ]
     },
     "metadata": {},
     "output_type": "display_data"
    }
   ],
   "source": [
    "plt.hist(data1)"
   ]
  },
  {
   "cell_type": "code",
   "execution_count": 6,
   "id": "84fc34ad",
   "metadata": {},
   "outputs": [
    {
     "data": {
      "text/plain": [
       "<matplotlib.axes._subplots.AxesSubplot at 0x7f49d3e65070>"
      ]
     },
     "execution_count": 6,
     "metadata": {},
     "output_type": "execute_result"
    },
    {
     "data": {
      "image/png": "[encoded data removed]",
      "text/plain": [
       "<Figure size 432x288 with 1 Axes>"
      ]
     },
     "metadata": {},
     "output_type": "display_data"
    }
   ],
   "source": [
    "sns.distplot(data1)"
   ]
  },
  {
   "cell_type": "markdown",
   "id": "3ce7e502",
   "metadata": {},
   "source": [
    "#### 母平均の点推定"
   ]
  },
  {
   "cell_type": "code",
   "execution_count": 7,
   "id": "3758087f",
   "metadata": {},
   "outputs": [
    {
     "data": {
      "text/plain": [
       "15.009772656699104"
      ]
     },
     "execution_count": 7,
     "metadata": {},
     "output_type": "execute_result"
    }
   ],
   "source": [
    "mu = np.mean(data1)\n",
    "mu"
   ]
  },
  {
   "cell_type": "markdown",
   "id": "6746a725",
   "metadata": {},
   "source": [
    "#### 母分散の点推定（不偏分散）\n",
    "不偏分散を求める際は、ddofの引数を1にします。ddof=1とすることにより、不偏分散のn−1で割る 計算が行われます。"
   ]
  },
  {
   "cell_type": "code",
   "execution_count": 8,
   "id": "45760956",
   "metadata": {},
   "outputs": [
    {
     "data": {
      "text/plain": [
       "0.9976729288445313"
      ]
     },
     "execution_count": 8,
     "metadata": {},
     "output_type": "execute_result"
    }
   ],
   "source": [
    "sigma2 = np.var(data1, ddof=1)\n",
    "sigma2"
   ]
  },
  {
   "cell_type": "markdown",
   "id": "0e3a580e",
   "metadata": {},
   "source": [
    "#### 自由度を計算"
   ]
  },
  {
   "cell_type": "code",
   "execution_count": 9,
   "id": "fca0ef24",
   "metadata": {},
   "outputs": [
    {
     "data": {
      "text/plain": [
       "9999"
      ]
     },
     "execution_count": 9,
     "metadata": {},
     "output_type": "execute_result"
    }
   ],
   "source": [
    "df = len(data1)-1\n",
    "df"
   ]
  },
  {
   "cell_type": "markdown",
   "id": "ea2506bd",
   "metadata": {},
   "source": [
    "#### 標準誤差を計算"
   ]
  },
  {
   "cell_type": "code",
   "execution_count": 10,
   "id": "2f7e6f66",
   "metadata": {},
   "outputs": [
    {
     "data": {
      "text/plain": [
       "0.00998835786725992"
      ]
     },
     "execution_count": 10,
     "metadata": {},
     "output_type": "execute_result"
    }
   ],
   "source": [
    "sigma = np.std(data1, ddof=1)\n",
    "se = sigma/np.sqrt(len(data1))\n",
    "se\n"
   ]
  },
  {
   "cell_type": "markdown",
   "id": "2b4c19a9",
   "metadata": {},
   "source": [
    "#### 95%信頼区間を計算\n",
    "信頼区間は、stats.t.intervalメソッドを使用し、上記で計算した値を引数とすることで計算できます。なお、戻り値が計算された信頼区間の下限および上限値の値となります。"
   ]
  },
  {
   "cell_type": "code",
   "execution_count": 11,
   "id": "ae38d6d7",
   "metadata": {},
   "outputs": [
    {
     "data": {
      "text/plain": [
       "(14.990193464986199, 15.02935184841201)"
      ]
     },
     "execution_count": 11,
     "metadata": {},
     "output_type": "execute_result"
    }
   ],
   "source": [
    "interval = stats.t.interval(alpha=0.95, df=df, loc=mu, scale = se)\n",
    "interval"
   ]
  }
 ],
 "metadata": {
  "kernelspec": {
   "display_name": "Python 3 (ipykernel)",
   "language": "python",
   "name": "python3"
  },
  "language_info": {
   "codemirror_mode": {
    "name": "ipython",
    "version": 3
   },
   "file_extension": ".py",
   "mimetype": "text/x-python",
   "name": "python",
   "nbconvert_exporter": "python",
   "pygments_lexer": "ipython3",
   "version": "3.8.3"
  }
 },
 "nbformat": 4,
 "nbformat_minor": 5
}
