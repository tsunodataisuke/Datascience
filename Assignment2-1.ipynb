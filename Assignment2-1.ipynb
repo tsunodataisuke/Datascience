{
 "cells": [
  {
   "cell_type": "markdown",
   "metadata": {},
   "source": [
    "# 課題2-1: 一元分散分析\n",
    "\n",
    "A社は、エタノールを製造・販売しています。5本の製造ラインがありますが、これらのラインにより製品の濃度に差がないかどうかを確認したく思います。5本のライン(A, B, C, D, E)から10回ずつサンプリングを行い測定を行った結果が *dataset/data1.csv* です（データ数の合計：50件）。このデータを一元分散分析にて解析し、結論を出してみましょう。なお、有意水準は5％とします。\n",
    "\n",
    "レッスン7までで学んだ内容を踏まえ、各セルに入っているコメントを実行するコードを記入してください。"
   ]
  },
  {
   "cell_type": "markdown",
   "metadata": {},
   "source": [
    "## 1. 必要なモジュールの読み込み"
   ]
  },
  {
   "cell_type": "code",
   "execution_count": 2,
   "metadata": {},
   "outputs": [],
   "source": [
    "import numpy as np\n",
    "import pandas as pd\n",
    "import scipy as sp\n",
    "from scipy import stats\n",
    "\n",
    "from matplotlib import pyplot as plt\n",
    "import seaborn as sns\n",
    "sns.set()\n",
    "\n",
    "import statsmodels.formula.api as smf\n",
    "import statsmodels.api as sm\n",
    "\n",
    "%matplotlib inline"
   ]
  },
  {
   "cell_type": "markdown",
   "metadata": {},
   "source": [
    "## 2. データの読み込み"
   ]
  },
  {
   "cell_type": "code",
   "execution_count": 3,
   "metadata": {},
   "outputs": [],
   "source": [
    "# データを読み込んで変数 data に格納\n",
    "data=pd.read_csv('dataset/data1.csv')"
   ]
  },
  {
   "cell_type": "code",
   "execution_count": 4,
   "metadata": {
    "scrolled": true
   },
   "outputs": [
    {
     "data": {
      "text/html": [
       "<div>\n",
       "<style scoped>\n",
       "    .dataframe tbody tr th:only-of-type {\n",
       "        vertical-align: middle;\n",
       "    }\n",
       "\n",
       "    .dataframe tbody tr th {\n",
       "        vertical-align: top;\n",
       "    }\n",
       "\n",
       "    .dataframe thead th {\n",
       "        text-align: right;\n",
       "    }\n",
       "</style>\n",
       "<table border=\"1\" class=\"dataframe\">\n",
       "  <thead>\n",
       "    <tr style=\"text-align: right;\">\n",
       "      <th></th>\n",
       "      <th>Density</th>\n",
       "      <th>Line</th>\n",
       "    </tr>\n",
       "  </thead>\n",
       "  <tbody>\n",
       "    <tr>\n",
       "      <th>0</th>\n",
       "      <td>71.624345</td>\n",
       "      <td>A</td>\n",
       "    </tr>\n",
       "    <tr>\n",
       "      <th>1</th>\n",
       "      <td>69.388244</td>\n",
       "      <td>A</td>\n",
       "    </tr>\n",
       "    <tr>\n",
       "      <th>2</th>\n",
       "      <td>69.471828</td>\n",
       "      <td>A</td>\n",
       "    </tr>\n",
       "    <tr>\n",
       "      <th>3</th>\n",
       "      <td>68.927031</td>\n",
       "      <td>A</td>\n",
       "    </tr>\n",
       "    <tr>\n",
       "      <th>4</th>\n",
       "      <td>70.865408</td>\n",
       "      <td>A</td>\n",
       "    </tr>\n",
       "  </tbody>\n",
       "</table>\n",
       "</div>"
      ],
      "text/plain": [
       "     Density Line\n",
       "0  71.624345    A\n",
       "1  69.388244    A\n",
       "2  69.471828    A\n",
       "3  68.927031    A\n",
       "4  70.865408    A"
      ]
     },
     "execution_count": 4,
     "metadata": {},
     "output_type": "execute_result"
    }
   ],
   "source": [
    "# データの最初の5行だけ表示\n",
    "data.head()"
   ]
  },
  {
   "cell_type": "markdown",
   "metadata": {},
   "source": [
    "## 3. データ内容の把握"
   ]
  },
  {
   "cell_type": "code",
   "execution_count": null,
   "metadata": {},
   "outputs": [],
   "source": [
    "#グラフ描画に関して、複数のグラフを表示する必要がない場合はplt.subplotsは使用しなくてもよいです。単にsns.boxplot(x = 'Line', y = 'Density', data = data)でも描画可能です。"
   ]
  },
  {
   "cell_type": "code",
   "execution_count": 23,
   "metadata": {},
   "outputs": [
    {
     "data": {
      "text/plain": [
       "<matplotlib.axes._subplots.AxesSubplot at 0x7f933ed03490>"
      ]
     },
     "execution_count": 23,
     "metadata": {},
     "output_type": "execute_result"
    },
    {
     "data": {
      "image/png": "[encoded data removed]",
      "text/plain": [
       "<Figure size 432x288 with 1 Axes>"
      ]
     },
     "metadata": {
      "needs_background": "light"
     },
     "output_type": "display_data"
    }
   ],
   "source": [
    "# （データ数が多くはないので）箱髭図にて製造ラインごとの濃度を表示\n",
    "\n",
    "#提出した自分のコード↓(一応正解になったが、箱髭図が２つ出てしまう)\n",
    "#f, axes = plt.subplots(1,2, figsize=(10,5))\n",
    "#sns.boxplot(x='Density', y='Line', data=data, ax=axes[0])\n",
    "\n",
    "#正解↓\n",
    "sns.boxplot(x = 'Line', y = 'Density', data = data)\n"
   ]
  },
  {
   "cell_type": "markdown",
   "metadata": {},
   "source": [
    "## 4. 分散分析\n",
    "\n",
    "ここでは理解を深めるために手動で計算して理解を深めましょう。"
   ]
  },
  {
   "cell_type": "markdown",
   "metadata": {},
   "source": [
    "### 4-1. 効果・誤差の平方和の計算"
   ]
  },
  {
   "cell_type": "code",
   "execution_count": 6,
   "metadata": {},
   "outputs": [
    {
     "name": "stdout",
     "output_type": "stream",
     "text": [
      "Line A: 69.9028591091939\n",
      "Line B: 69.36865005840153\n",
      "Line C: 68.42904350984494\n",
      "Line D: 68.73809656689362\n",
      "Line E: 69.23379915563066\n"
     ]
    }
   ],
   "source": [
    "# ラインの持つ影響（ラインによる影響を考えた場合の濃度）\n",
    "# 各ラインの濃度の平均値を計算し、それぞれを連結して リストとして格納\n",
    "me_Line_A = np.mean(data.query('Line == \"A\"')['Density'])\n",
    "me_Line_B = np.mean(data.query('Line == \"B\"')['Density'])\n",
    "me_Line_C = np.mean(data.query('Line == \"C\"')['Density'])\n",
    "me_Line_D = np.mean(data.query('Line == \"D\"')['Density'])\n",
    "me_Line_E = np.mean(data.query('Line == \"E\"')['Density'])\n",
    "print('Line A:', me_Line_A)\n",
    "print('Line B:', me_Line_B)\n",
    "print('Line C:', me_Line_C)\n",
    "print('Line D:', me_Line_D)\n",
    "print('Line E:', me_Line_E)"
   ]
  },
  {
   "cell_type": "code",
   "execution_count": 7,
   "metadata": {},
   "outputs": [
    {
     "data": {
      "text/plain": [
       "13.098677762856148"
      ]
     },
     "execution_count": 7,
     "metadata": {},
     "output_type": "execute_result"
    }
   ],
   "source": [
    "#　効果の平方和を求める\n",
    "mu_n = [69.902859]*10 + [69.368650]*10 + [68.429043]*10 + [68.738096]*10 + [69.233799]*10\n",
    "mu_n = np.array(mu_n)\n",
    "\n",
    "mu_all = np.mean(data['Density'])\n",
    "\n",
    "# 効果\n",
    "effect = mu_n - mu_all\n",
    "\n",
    "# 効果の平方和（群間平方和）\n",
    "squares_Line = np.sum(effect**2)\n",
    "squares_Line"
   ]
  },
  {
   "cell_type": "code",
   "execution_count": 10,
   "metadata": {},
   "outputs": [],
   "source": [
    "#　誤差を求める\n",
    "resid = data['Density']-mu_n"
   ]
  },
  {
   "cell_type": "code",
   "execution_count": 17,
   "metadata": {},
   "outputs": [
    {
     "data": {
      "text/plain": [
       "67.40695311278681"
      ]
     },
     "execution_count": 17,
     "metadata": {},
     "output_type": "execute_result"
    }
   ],
   "source": [
    "#　誤差の平方和を求める\n",
    "\n",
    "# 誤差の平方和（群内平方和）\n",
    "squares_resid = np.sum(resid**2)\n",
    "squares_resid"
   ]
  },
  {
   "cell_type": "markdown",
   "metadata": {},
   "source": [
    "### 4-2. 効果・誤差の分散の計算"
   ]
  },
  {
   "cell_type": "code",
   "execution_count": 18,
   "metadata": {},
   "outputs": [],
   "source": [
    " # 効果の自由度を変数 df_model に格納し、誤差の自由度を変数 df_resid に格納する\n",
    "df_model=4\n",
    "df_resid=45 #(50-1)-4,（全体の自由度ー１）−4"
   ]
  },
  {
   "cell_type": "code",
   "execution_count": 21,
   "metadata": {},
   "outputs": [
    {
     "data": {
      "text/plain": [
       "3.274669440714037"
      ]
     },
     "execution_count": 21,
     "metadata": {},
     "output_type": "execute_result"
    }
   ],
   "source": [
    "#効果の分散を求める\n",
    "variance_effect=squares_Line/df_model\n",
    "variance_effect"
   ]
  },
  {
   "cell_type": "code",
   "execution_count": 22,
   "metadata": {},
   "outputs": [
    {
     "data": {
      "text/plain": [
       "1.4979322913952624"
      ]
     },
     "execution_count": 22,
     "metadata": {},
     "output_type": "execute_result"
    }
   ],
   "source": [
    "# 誤差の分散を求める\n",
    "variance_resid=squares_resid/df_resid\n",
    "variance_resid"
   ]
  },
  {
   "cell_type": "markdown",
   "metadata": {},
   "source": [
    "### 4-3. p値の計算"
   ]
  },
  {
   "cell_type": "code",
   "execution_count": 24,
   "metadata": {},
   "outputs": [
    {
     "data": {
      "text/plain": [
       "2.186126475492305"
      ]
     },
     "execution_count": 24,
     "metadata": {},
     "output_type": "execute_result"
    }
   ],
   "source": [
    "# F比を求める\n",
    "f_ratio=variance_effect/variance_resid\n",
    "f_ratio"
   ]
  },
  {
   "cell_type": "code",
   "execution_count": 26,
   "metadata": {},
   "outputs": [
    {
     "data": {
      "text/plain": [
       "0.08574946317459575"
      ]
     },
     "execution_count": 26,
     "metadata": {},
     "output_type": "execute_result"
    }
   ],
   "source": [
    "# p値を求めて、表示する\n",
    "1-sp.stats.f.cdf(x=f_ratio, dfn=df_model, dfd=df_resid)"
   ]
  },
  {
   "cell_type": "markdown",
   "metadata": {},
   "source": [
    "## 5. Statsmodelsによる分散分析\n",
    "\n",
    "実務ではStatsmodelsを使って実行していくことになります。次に、Statsmodelsのパッケージを用いて計算してみましょう。"
   ]
  },
  {
   "cell_type": "code",
   "execution_count": 31,
   "metadata": {},
   "outputs": [],
   "source": [
    "# 最小二乗法を使ってモデルを作成\n",
    "anova_model = smf.ols('Density ~ Line', data=data).fit() \n",
    "#data1のデータに対しBody_length列を元にFeedを予測すると言う形でモデルを定義しそれに対し.fit()\n",
    "#を学習したものをanova_model_1としています\n",
    "#製品の濃度が、製造ラインにより影響があるか？ということですから、smf.ols(濃度 ~ 製造ライン) ですね。"
   ]
  },
  {
   "cell_type": "code",
   "execution_count": 32,
   "metadata": {},
   "outputs": [],
   "source": [
    "#sum_sqの欄は平方和になります。\n",
    "#67.406953は、自分で実際に手動で計算した、群内の平方和を求めるの値と一致していますね。\n",
    "#Residual というのは残差　という意味です。その行のsum_sqは、sum和のsquere平方(=二乗)になります\n",
    "#dfの方は自由度です。# 群間変動の自由度を変数 df_model に格納し、群内変動の自由度を変数 df_resid に格納する\n",
    "#で代入した値と一致しているはずです。\n",
    "#FはF比、PR(>F)はp値です。\n",
    "#1F比を求める\n",
    "#2p値を求めて、表示する\n",
    "#の部分で手動計算した値と一致しているはずです\n",
    "#もし一致していなかったら、手動計算が誤りですね。\n",
    "#一番重要なのは、p値で、そこで有意水準以下かどうかで判断を下します。"
   ]
  },
  {
   "cell_type": "code",
   "execution_count": 33,
   "metadata": {
    "scrolled": true
   },
   "outputs": [
    {
     "data": {
      "text/html": [
       "<div>\n",
       "<style scoped>\n",
       "    .dataframe tbody tr th:only-of-type {\n",
       "        vertical-align: middle;\n",
       "    }\n",
       "\n",
       "    .dataframe tbody tr th {\n",
       "        vertical-align: top;\n",
       "    }\n",
       "\n",
       "    .dataframe thead th {\n",
       "        text-align: right;\n",
       "    }\n",
       "</style>\n",
       "<table border=\"1\" class=\"dataframe\">\n",
       "  <thead>\n",
       "    <tr style=\"text-align: right;\">\n",
       "      <th></th>\n",
       "      <th>sum_sq</th>\n",
       "      <th>df</th>\n",
       "      <th>F</th>\n",
       "      <th>PR(&gt;F)</th>\n",
       "    </tr>\n",
       "  </thead>\n",
       "  <tbody>\n",
       "    <tr>\n",
       "      <th>Line</th>\n",
       "      <td>13.098668</td>\n",
       "      <td>4.0</td>\n",
       "      <td>2.186125</td>\n",
       "      <td>0.08575</td>\n",
       "    </tr>\n",
       "    <tr>\n",
       "      <th>Residual</th>\n",
       "      <td>67.406953</td>\n",
       "      <td>45.0</td>\n",
       "      <td>NaN</td>\n",
       "      <td>NaN</td>\n",
       "    </tr>\n",
       "  </tbody>\n",
       "</table>\n",
       "</div>"
      ],
      "text/plain": [
       "             sum_sq    df         F   PR(>F)\n",
       "Line      13.098668   4.0  2.186125  0.08575\n",
       "Residual  67.406953  45.0       NaN      NaN"
      ]
     },
     "execution_count": 33,
     "metadata": {},
     "output_type": "execute_result"
    }
   ],
   "source": [
    "# Statsmodelsの関数で分散分析を実行し、結果を表示\n",
    "sm.stats.anova_lm(anova_model, typ=2)\n",
    "#次にsm.stats.anova_lm(anova_model_1, typ=2)\n",
    "#で引数にanova_model_1を与えることにより、それに対する分散分析を行うと言う処理が行われます。"
   ]
  },
  {
   "cell_type": "markdown",
   "metadata": {},
   "source": [
    "手動で計算した場合と結果は一致しましたか？"
   ]
  },
  {
   "cell_type": "code",
   "execution_count": null,
   "metadata": {},
   "outputs": [],
   "source": [
    "#帰無仮説には「差がない」という状態を設定するのが普通です。\n",
    "#それに対して対立仮説には「差がある」という状態を設定します。\n",
    "#帰無仮説は、製造ラインによって濃度に差がない\n",
    "#対立仮説は、製造ラインによって濃度に差がある\n",
    "#例えば有意水準を 5% とした場合では、上図の F 分布の右側 5% 分の領域が棄却域ということになります。\n",
    "#棄却域よりも右側に x の値が来れば p 値は 5% よりも小さくなり、帰無仮説を棄却することになります。\n",
    "#棄却域よりも左側に x の値が来れば p 値は 5% よりも大きくなり、帰無仮説は棄却できないということになります。\n",
    "\n",
    "\n",
    "#要するに0.0001みたいに小さい値なら帰無仮説を棄却しろ　　小さければ小さいほど棄却される可能性が高くなる　　有意差がある\n",
    "#要するに0.08598989みたいに大きい値なら帰無仮説は棄却できない　有意差があるとは言えない"
   ]
  },
  {
   "cell_type": "markdown",
   "metadata": {},
   "source": [
    "## 6. 結果の解釈"
   ]
  },
  {
   "cell_type": "markdown",
   "metadata": {},
   "source": [
    "ラインによって、製品の濃度は「有意差があるとは言えない」と判断できる（ここをダブルクリックして編集状態にし、カギカッコの中に文言を埋めてください）"
   ]
  },
  {
   "cell_type": "markdown",
   "metadata": {},
   "source": [
    "*補足：有意差がみられた場合、これは化学メーカーとしては問題ですので製造ラインの詳細を確認する必要があります。*"
   ]
  },
  {
   "cell_type": "code",
   "execution_count": null,
   "metadata": {},
   "outputs": [],
   "source": []
  }
 ],
 "metadata": {
  "kernelspec": {
   "display_name": "Python 3 (ipykernel)",
   "language": "python",
   "name": "python3"
  },
  "language_info": {
   "codemirror_mode": {
    "name": "ipython",
    "version": 3
   },
   "file_extension": ".py",
   "mimetype": "text/x-python",
   "name": "python",
   "nbconvert_exporter": "python",
   "pygments_lexer": "ipython3",
   "version": "3.8.3"
  }
 },
 "nbformat": 4,
 "nbformat_minor": 4
}
