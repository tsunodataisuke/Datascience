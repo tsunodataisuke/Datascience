{
 "cells": [
  {
   "cell_type": "markdown",
   "metadata": {},
   "source": [
    "# 仮説検定を実装する"
   ]
  },
  {
   "cell_type": "markdown",
   "metadata": {},
   "source": [
    "## 1. 必要なモジュールの読み込み"
   ]
  },
  {
   "cell_type": "code",
   "execution_count": 1,
   "metadata": {},
   "outputs": [],
   "source": [
    "import numpy as np\n",
    "import matplotlib.pyplot as plt\n",
    "import seaborn as sns\n",
    "sns.set()\n",
    "from scipy import stats\n",
    "\n",
    "%matplotlib inline"
   ]
  },
  {
   "cell_type": "markdown",
   "metadata": {},
   "source": [
    "## 2. 1標本における解析"
   ]
  },
  {
   "cell_type": "code",
   "execution_count": 2,
   "metadata": {},
   "outputs": [],
   "source": [
    "# 任意の平均値・標準偏差をもつ正規乱数をサイズ1000個で作成し、\"data1\"に格納\n",
    "\n",
    "norm_dist = stats.norm(loc = 15, scale = 1)\n",
    "data1 = norm_dist.rvs(size = 1000)"
   ]
  },
  {
   "cell_type": "code",
   "execution_count": 3,
   "metadata": {},
   "outputs": [
    {
     "data": {
      "text/plain": [
       "(array([  6.,  18.,  99., 206., 276., 231., 124.,  34.,   4.,   2.]),\n",
       " array([11.74174474, 12.43945146, 13.13715818, 13.8348649 , 14.53257163,\n",
       "        15.23027835, 15.92798507, 16.62569179, 17.32339851, 18.02110523,\n",
       "        18.71881195]),\n",
       " <a list of 10 Patch objects>)"
      ]
     },
     "execution_count": 3,
     "metadata": {},
     "output_type": "execute_result"
    },
    {
     "data": {
      "image/png": "[encoded data removed]",
      "text/plain": [
       "<Figure size 432x288 with 1 Axes>"
      ]
     },
     "metadata": {
      "needs_background": "light"
     },
     "output_type": "display_data"
    }
   ],
   "source": [
    "#　data1のヒストグラムを作成\n",
    "plt.hist(data1)"
   ]
  },
  {
   "cell_type": "code",
   "execution_count": 4,
   "metadata": {},
   "outputs": [
    {
     "data": {
      "text/plain": [
       "14.968547463740592"
      ]
     },
     "execution_count": 4,
     "metadata": {},
     "output_type": "execute_result"
    }
   ],
   "source": [
    "# 母平均の点推定を計算し、結果を表示\n",
    "mu = np.mean(data1)\n",
    "mu"
   ]
  },
  {
   "cell_type": "code",
   "execution_count": 5,
   "metadata": {},
   "outputs": [
    {
     "data": {
      "text/plain": [
       "(14.90820967046642, 15.028885257014764)"
      ]
     },
     "execution_count": 5,
     "metadata": {},
     "output_type": "execute_result"
    }
   ],
   "source": [
    "# 95%信頼区間の推定を行い、上側信頼限界と下側信頼限界の値を表示\n",
    "df = len(data1)-1 #自由度を計算\n",
    "\n",
    "sigma = np.std(data1, ddof=1)\n",
    "se = sigma/np.sqrt(len(data1)) #標準誤差を計算\n",
    "\n",
    "interval = stats.t.interval(alpha=0.95, df=df, loc=mu, scale = se)\n",
    "interval\n"
   ]
  },
  {
   "cell_type": "code",
   "execution_count": 6,
   "metadata": {},
   "outputs": [
    {
     "data": {
      "text/plain": [
       "0.153297122340445"
      ]
     },
     "execution_count": 6,
     "metadata": {},
     "output_type": "execute_result"
    }
   ],
   "source": [
    "# 任意の帰無仮説を設定し、それに基づきt値を計算して、片側検定した結果を表示してください\n",
    "\n",
    "t_value = (mu-15)/se\n",
    "t_value\n",
    "\n",
    "alpha = stats.t.cdf(np.abs(t_value), df=df) # 上側の裾を使用して確率を計算\n",
    "1-alpha"
   ]
  },
  {
   "cell_type": "code",
   "execution_count": 7,
   "metadata": {},
   "outputs": [
    {
     "data": {
      "text/plain": [
       "0.30659424468089"
      ]
     },
     "execution_count": 7,
     "metadata": {},
     "output_type": "execute_result"
    }
   ],
   "source": [
    "# 任意の帰無仮説を設定し、それに基づきt値を計算して、両側検定した結果を表示してください\n",
    "t_value = (mu-15)/se\n",
    "t_value\n",
    "\n",
    "alpha = stats.t.cdf(np.abs(t_value), df=df) # 上側の裾を使用して確率を計算\n",
    "(1-alpha)*2"
   ]
  },
  {
   "cell_type": "markdown",
   "metadata": {},
   "source": [
    "## 3. 2標本における解析\n",
    "\n",
    "標本をもう1つ増やし、先ほどの標本と差があるのか否かについて検討する。"
   ]
  },
  {
   "cell_type": "code",
   "execution_count": 8,
   "metadata": {},
   "outputs": [],
   "source": [
    "# 任意の平均値・標準偏差をもつ正規乱数をサイズ1000個で作成し、\"data2\"に格納\n",
    "norm_dist2 = stats.norm(loc = 15, scale = 1)\n",
    "data2 = norm_dist2.rvs(size = 1000)"
   ]
  },
  {
   "cell_type": "code",
   "execution_count": 9,
   "metadata": {},
   "outputs": [
    {
     "data": {
      "text/plain": [
       "(array([  2.,   9.,  28., 108., 228., 307., 205.,  86.,  23.,   4.]),\n",
       " array([11.00158179, 11.7445358 , 12.48748981, 13.23044382, 13.97339783,\n",
       "        14.71635184, 15.45930585, 16.20225986, 16.94521387, 17.68816788,\n",
       "        18.43112189]),\n",
       " <a list of 10 Patch objects>)"
      ]
     },
     "execution_count": 9,
     "metadata": {},
     "output_type": "execute_result"
    },
    {
     "data": {
      "image/png": "[encoded data removed]",
      "text/plain": [
       "<Figure size 432x288 with 1 Axes>"
      ]
     },
     "metadata": {
      "needs_background": "light"
     },
     "output_type": "display_data"
    }
   ],
   "source": [
    "# data1とdata2をヒストグラムにてプロット\n",
    "plt.hist(data1)\n",
    "plt.hist(data2)"
   ]
  },
  {
   "cell_type": "code",
   "execution_count": 10,
   "metadata": {},
   "outputs": [
    {
     "data": {
      "text/plain": [
       "Ttest_relResult(statistic=-0.50834669202804, pvalue=0.6113224624422813)"
      ]
     },
     "execution_count": 10,
     "metadata": {},
     "output_type": "execute_result"
    }
   ],
   "source": [
    "# data1, data2それぞれの値を使って「対応のあるt検定」で計算し、結果を表示\n",
    "mu = np.mean(data1)\n",
    "mu2 = np.mean(data2)\n",
    "\n",
    "df = len(data1)-1 #自由度を計算\n",
    "df2 = len(data2)-1 #自由度を計算\n",
    "\n",
    "sigma = np.std(data1, ddof=1)\n",
    "se = sigma/np.sqrt(len(data1)) #標準誤差を計算\n",
    "sigma2 = np.std(data2, ddof=1)\n",
    "se2 = sigma/np.sqrt(len(data2)) #標準誤差を計算\n",
    "\n",
    "stats.ttest_rel(data1,data2)"
   ]
  },
  {
   "cell_type": "code",
   "execution_count": 11,
   "metadata": {},
   "outputs": [
    {
     "data": {
      "text/plain": [
       "Ttest_indResult(statistic=-0.5078254923961901, pvalue=0.6116318779806563)"
      ]
     },
     "execution_count": 11,
     "metadata": {},
     "output_type": "execute_result"
    }
   ],
   "source": [
    "# data1, data2それぞれの値を使って「対応のないt検定」で計算し、結果を表示\n",
    "stats.ttest_ind(data1,data2,equal_var = False)"
   ]
  },
  {
   "cell_type": "markdown",
   "metadata": {},
   "source": [
    "## 4. ここまでの仮説検定の結果を解釈して下記に記載してください"
   ]
  },
  {
   "cell_type": "markdown",
   "metadata": {},
   "source": [
    "data1はdata2と「有意に異なるとは言えない」"
   ]
  }
 ],
 "metadata": {
  "kernelspec": {
   "display_name": "Python 3 (ipykernel)",
   "language": "python",
   "name": "python3"
  },
  "language_info": {
   "codemirror_mode": {
    "name": "ipython",
    "version": 3
   },
   "file_extension": ".py",
   "mimetype": "text/x-python",
   "name": "python",
   "nbconvert_exporter": "python",
   "pygments_lexer": "ipython3",
   "version": "3.8.3"
  }
 },
 "nbformat": 4,
 "nbformat_minor": 4
}
