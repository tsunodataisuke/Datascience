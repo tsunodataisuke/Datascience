{
 "cells": [
  {
   "cell_type": "code",
   "execution_count": 1,
   "id": "f97d24b6",
   "metadata": {},
   "outputs": [],
   "source": [
    "# モジュールの読み込み\n",
    "import numpy as np\n",
    "import pandas as pd\n",
    "from scipy import stats\n",
    "\n",
    "import matplotlib as mpl\n",
    "from matplotlib import pyplot as plt\n",
    "import seaborn as sns\n",
    "sns.set()\n",
    "\n",
    "%matplotlib inline"
   ]
  },
  {
   "cell_type": "code",
   "execution_count": 2,
   "id": "a036a6cc",
   "metadata": {},
   "outputs": [],
   "source": [
    "# データの読み込み\n",
    "data1 = pd.read_csv('Lesson5-1.csv')"
   ]
  },
  {
   "cell_type": "code",
   "execution_count": 3,
   "id": "c95b0955",
   "metadata": {},
   "outputs": [
    {
     "data": {
      "text/plain": [
       "Length    51.820183\n",
       "dtype: float64"
      ]
     },
     "execution_count": 3,
     "metadata": {},
     "output_type": "execute_result"
    }
   ],
   "source": [
    "#標本平均の計算\n",
    "mu = np.mean(data1)\n",
    "mu"
   ]
  },
  {
   "cell_type": "code",
   "execution_count": 4,
   "id": "3ff106ce",
   "metadata": {},
   "outputs": [
    {
     "data": {
      "text/plain": [
       "29"
      ]
     },
     "execution_count": 4,
     "metadata": {},
     "output_type": "execute_result"
    }
   ],
   "source": [
    "#自由度の計算\n",
    "df = len(data1) - 1\n",
    "df"
   ]
  },
  {
   "cell_type": "code",
   "execution_count": 5,
   "id": "6afba1c1",
   "metadata": {},
   "outputs": [
    {
     "data": {
      "text/plain": [
       "Length    0.562163\n",
       "dtype: float64"
      ]
     },
     "execution_count": 5,
     "metadata": {},
     "output_type": "execute_result"
    }
   ],
   "source": [
    "#標準誤差の計算\n",
    "sigma = np.std(data1, ddof=1)\n",
    "se = sigma/np.sqrt(len(data1))\n",
    "se"
   ]
  },
  {
   "cell_type": "markdown",
   "id": "4e7f3891",
   "metadata": {},
   "source": [
    "### ・帰無仮説（H0）: 池の中の魚の平均体長は50cmである\n",
    "### ・対立仮説（H1）: 池の中の魚の平均体長は50cmとは異なる"
   ]
  },
  {
   "cell_type": "code",
   "execution_count": 6,
   "id": "066bc184",
   "metadata": {},
   "outputs": [
    {
     "data": {
      "text/plain": [
       "Length    3.237819\n",
       "dtype: float64"
      ]
     },
     "execution_count": 6,
     "metadata": {},
     "output_type": "execute_result"
    }
   ],
   "source": [
    "#t値の計算\n",
    "t_value = (mu-50)/se\n",
    "t_value"
   ]
  },
  {
   "cell_type": "code",
   "execution_count": 7,
   "id": "ed7d589c",
   "metadata": {},
   "outputs": [
    {
     "data": {
      "text/plain": [
       "array([0.00301227])"
      ]
     },
     "execution_count": 7,
     "metadata": {},
     "output_type": "execute_result"
    }
   ],
   "source": [
    "#p値の計算\n",
    "alpha = stats.t.cdf(np.abs(t_value), df=df) # 上側の裾を使用して確率を計算\n",
    "(1-alpha)*2"
   ]
  },
  {
   "cell_type": "code",
   "execution_count": 8,
   "id": "f722bc98",
   "metadata": {},
   "outputs": [
    {
     "data": {
      "text/plain": [
       "Ttest_1sampResult(statistic=array([3.23781919]), pvalue=array([0.00301227]))"
      ]
     },
     "execution_count": 8,
     "metadata": {},
     "output_type": "execute_result"
    }
   ],
   "source": [
    "stats.ttest_1samp(data1, 50)"
   ]
  },
  {
   "cell_type": "markdown",
   "id": "86ddca54",
   "metadata": {},
   "source": [
    "### 次に、「池の魚の平均体長は50cmより大きい」かどうかを調べる。こちらも有意差5％とする。\n",
    "\n",
    "### ・帰無仮説（H0）: 池の中の魚の平均体長は50cmである\n",
    "### ・対立仮説（H1）: 池の中の魚の平均体長は50cmより大きい\n"
   ]
  },
  {
   "cell_type": "code",
   "execution_count": 9,
   "id": "b0ba4e4e",
   "metadata": {},
   "outputs": [
    {
     "data": {
      "text/plain": [
       "array([0.00150613])"
      ]
     },
     "execution_count": 9,
     "metadata": {},
     "output_type": "execute_result"
    }
   ],
   "source": [
    "alpha = stats.t.cdf(np.abs(t_value), df=df) # 上側の裾を使用して確率を計算\n",
    "1-alpha"
   ]
  },
  {
   "cell_type": "markdown",
   "id": "0c1a4f26",
   "metadata": {},
   "source": [
    "こちらもp値が0.05を下回っているので”有意差あり”とみなすことができる。よって、「池の魚の平均体長は50cmより有意に大きい」と判断できる。\n",
    "\n"
   ]
  },
  {
   "cell_type": "markdown",
   "id": "deae2e5d",
   "metadata": {},
   "source": [
    "# 2変量データのt検定\n"
   ]
  },
  {
   "cell_type": "markdown",
   "id": "1229482d",
   "metadata": {},
   "source": [
    "今までは1つの池の中の魚の体長といった「1変量のデータ」について考えてきました。次は、「飼料Aで育った養殖魚と飼料Bで育った養殖魚の体長」「2歳魚と3歳魚の体長」といった2変数の間で平均値に差があるか否かについて考えてみましょう。\n"
   ]
  },
  {
   "cell_type": "code",
   "execution_count": 10,
   "id": "494be7b3",
   "metadata": {},
   "outputs": [],
   "source": [
    "data2 = pd.read_csv('Lesson5-2.csv')"
   ]
  },
  {
   "cell_type": "code",
   "execution_count": 11,
   "id": "46e34a69",
   "metadata": {},
   "outputs": [
    {
     "data": {
      "text/html": [
       "<div>\n",
       "<style scoped>\n",
       "    .dataframe tbody tr th:only-of-type {\n",
       "        vertical-align: middle;\n",
       "    }\n",
       "\n",
       "    .dataframe tbody tr th {\n",
       "        vertical-align: top;\n",
       "    }\n",
       "\n",
       "    .dataframe thead th {\n",
       "        text-align: right;\n",
       "    }\n",
       "</style>\n",
       "<table border=\"1\" class=\"dataframe\">\n",
       "  <thead>\n",
       "    <tr style=\"text-align: right;\">\n",
       "      <th></th>\n",
       "      <th>2-years-old</th>\n",
       "      <th>3-years-old</th>\n",
       "    </tr>\n",
       "  </thead>\n",
       "  <tbody>\n",
       "    <tr>\n",
       "      <th>0</th>\n",
       "      <td>16.624345</td>\n",
       "      <td>14.600841</td>\n",
       "    </tr>\n",
       "    <tr>\n",
       "      <th>1</th>\n",
       "      <td>14.388244</td>\n",
       "      <td>14.984220</td>\n",
       "    </tr>\n",
       "    <tr>\n",
       "      <th>2</th>\n",
       "      <td>14.471828</td>\n",
       "      <td>14.606675</td>\n",
       "    </tr>\n",
       "    <tr>\n",
       "      <th>3</th>\n",
       "      <td>13.927031</td>\n",
       "      <td>14.401233</td>\n",
       "    </tr>\n",
       "    <tr>\n",
       "      <th>4</th>\n",
       "      <td>15.865408</td>\n",
       "      <td>14.627380</td>\n",
       "    </tr>\n",
       "  </tbody>\n",
       "</table>\n",
       "</div>"
      ],
      "text/plain": [
       "   2-years-old  3-years-old\n",
       "0    16.624345    14.600841\n",
       "1    14.388244    14.984220\n",
       "2    14.471828    14.606675\n",
       "3    13.927031    14.401233\n",
       "4    15.865408    14.627380"
      ]
     },
     "execution_count": 11,
     "metadata": {},
     "output_type": "execute_result"
    }
   ],
   "source": [
    "data2.head()"
   ]
  },
  {
   "cell_type": "markdown",
   "id": "855cb3ef",
   "metadata": {},
   "source": [
    "それぞれの魚について2歳時点での体長と3歳時点での体長のデータが記入されているとします。次に、この2変数の差を計算してみます。"
   ]
  },
  {
   "cell_type": "code",
   "execution_count": 12,
   "id": "b338ef88",
   "metadata": {},
   "outputs": [
    {
     "data": {
      "text/html": [
       "<div>\n",
       "<style scoped>\n",
       "    .dataframe tbody tr th:only-of-type {\n",
       "        vertical-align: middle;\n",
       "    }\n",
       "\n",
       "    .dataframe tbody tr th {\n",
       "        vertical-align: top;\n",
       "    }\n",
       "\n",
       "    .dataframe thead th {\n",
       "        text-align: right;\n",
       "    }\n",
       "</style>\n",
       "<table border=\"1\" class=\"dataframe\">\n",
       "  <thead>\n",
       "    <tr style=\"text-align: right;\">\n",
       "      <th></th>\n",
       "      <th>2-years-old</th>\n",
       "      <th>3-years-old</th>\n",
       "      <th>Difference</th>\n",
       "    </tr>\n",
       "  </thead>\n",
       "  <tbody>\n",
       "    <tr>\n",
       "      <th>0</th>\n",
       "      <td>16.624345</td>\n",
       "      <td>14.600841</td>\n",
       "      <td>-2.023504</td>\n",
       "    </tr>\n",
       "    <tr>\n",
       "      <th>1</th>\n",
       "      <td>14.388244</td>\n",
       "      <td>14.984220</td>\n",
       "      <td>0.595977</td>\n",
       "    </tr>\n",
       "    <tr>\n",
       "      <th>2</th>\n",
       "      <td>14.471828</td>\n",
       "      <td>14.606675</td>\n",
       "      <td>0.134847</td>\n",
       "    </tr>\n",
       "    <tr>\n",
       "      <th>3</th>\n",
       "      <td>13.927031</td>\n",
       "      <td>14.401233</td>\n",
       "      <td>0.474201</td>\n",
       "    </tr>\n",
       "    <tr>\n",
       "      <th>4</th>\n",
       "      <td>15.865408</td>\n",
       "      <td>14.627380</td>\n",
       "      <td>-1.238028</td>\n",
       "    </tr>\n",
       "  </tbody>\n",
       "</table>\n",
       "</div>"
      ],
      "text/plain": [
       "   2-years-old  3-years-old  Difference\n",
       "0    16.624345    14.600841   -2.023504\n",
       "1    14.388244    14.984220    0.595977\n",
       "2    14.471828    14.606675    0.134847\n",
       "3    13.927031    14.401233    0.474201\n",
       "4    15.865408    14.627380   -1.238028"
      ]
     },
     "execution_count": 12,
     "metadata": {},
     "output_type": "execute_result"
    }
   ],
   "source": [
    "data2['Difference'] = data2['3-years-old'] - data2['2-years-old']\n",
    "data2.head()\n"
   ]
  },
  {
   "cell_type": "markdown",
   "id": "35610e23",
   "metadata": {},
   "source": [
    "### ・帰無仮説（H0）: 2歳魚と3歳魚で体長は変わらない（2歳魚と3歳魚の体長の差は0）\n",
    "### ・対立仮説（H1）: 2歳魚と3歳魚で体長は異なる（2歳魚と3歳魚の体長の差は0ではない）"
   ]
  },
  {
   "cell_type": "code",
   "execution_count": 13,
   "id": "f75d5bfa",
   "metadata": {},
   "outputs": [
    {
     "data": {
      "text/plain": [
       "Ttest_1sampResult(statistic=2.212896760339997, pvalue=0.03493196300425262)"
      ]
     },
     "execution_count": 13,
     "metadata": {},
     "output_type": "execute_result"
    }
   ],
   "source": [
    "stats.ttest_1samp(data2['Difference'], 0)"
   ]
  },
  {
   "cell_type": "markdown",
   "id": "fdf1e822",
   "metadata": {},
   "source": [
    "p値が0.05を下回りましたので、「2歳魚と3歳魚の体長は有意に異なる」と判断できました。"
   ]
  },
  {
   "cell_type": "code",
   "execution_count": 14,
   "id": "c8fe0fa0",
   "metadata": {},
   "outputs": [
    {
     "data": {
      "text/plain": [
       "Ttest_indResult(statistic=-2.403807649264687, pvalue=0.01945646990570736)"
      ]
     },
     "execution_count": 14,
     "metadata": {},
     "output_type": "execute_result"
    }
   ],
   "source": [
    "stats.ttest_ind(data2['2-years-old'], data2['3-years-old'], equal_var = False)"
   ]
  },
  {
   "cell_type": "markdown",
   "id": "67ee4a76",
   "metadata": {},
   "source": [
    "p値が0.05を下回ったので「2歳魚と3歳魚の体長は有意に異なる」と判断できました。"
   ]
  }
 ],
 "metadata": {
  "kernelspec": {
   "display_name": "Python 3 (ipykernel)",
   "language": "python",
   "name": "python3"
  },
  "language_info": {
   "codemirror_mode": {
    "name": "ipython",
    "version": 3
   },
   "file_extension": ".py",
   "mimetype": "text/x-python",
   "name": "python",
   "nbconvert_exporter": "python",
   "pygments_lexer": "ipython3",
   "version": "3.8.3"
  }
 },
 "nbformat": 4,
 "nbformat_minor": 5
}
